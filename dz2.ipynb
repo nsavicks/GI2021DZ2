{
 "cells": [
  {
   "cell_type": "code",
   "execution_count": 6,
   "metadata": {},
   "outputs": [
    {
     "name": "stdout",
     "output_type": "stream",
     "text": [
      "Requirement already satisfied: pysam in /opt/conda/lib/python3.8/site-packages (0.16.0.1)\n"
     ]
    }
   ],
   "source": [
    "!pip install pysam"
   ]
  },
  {
   "cell_type": "code",
   "execution_count": 7,
   "metadata": {},
   "outputs": [
    {
     "name": "stdout",
     "output_type": "stream",
     "text": [
      "Unmapped reads:  17765\n",
      "Total reads:  2921629\n",
      "Reads with mapping quality 0:  126628\n",
      "Average mapping quality for all reads: 55.91379158681681\n",
      "Average mapping quality for non-zero quality reads: 58.446975510921106\n"
     ]
    }
   ],
   "source": [
    "import pysam\n",
    "\n",
    "samfile = pysam.AlignmentFile(\"/sbgenomics/project-files/merged-tumor.bam\", \"rb\")\n",
    "\n",
    "cntAll = 0\n",
    "cntUnmapped = 0\n",
    "cntZeroQuality = 0\n",
    "sumQuality = 0\n",
    "sumQualityNonZero = 0\n",
    "\n",
    "for read in samfile:\n",
    "    cntAll += 1\n",
    "    sumQuality += read.mapping_quality\n",
    "    if read.is_unmapped:\n",
    "        cntUnmapped += 1\n",
    "    if read.mapping_quality == 0:\n",
    "        cntZeroQuality += 1\n",
    "    else:\n",
    "        sumQualityNonZero += read.mapping_quality\n",
    "        \n",
    "print(\"Unmapped reads: \", cntUnmapped)\n",
    "print(\"Total reads: \", cntAll)\n",
    "print(\"Reads with mapping quality 0: \", cntZeroQuality)\n",
    "print(\"Average mapping quality for all reads:\", sumQuality/cntAll)\n",
    "print(\"Average mapping quality for non-zero quality reads:\", sumQualityNonZero/(cntAll - cntZeroQuality))\n"
   ]
  },
  {
   "cell_type": "code",
   "execution_count": null,
   "metadata": {},
   "outputs": [],
   "source": []
  }
 ],
 "metadata": {
  "kernelspec": {
   "display_name": "Python 3",
   "language": "python",
   "name": "python3"
  },
  "language_info": {
   "codemirror_mode": {
    "name": "ipython",
    "version": 3
   },
   "file_extension": ".py",
   "mimetype": "text/x-python",
   "name": "python",
   "nbconvert_exporter": "python",
   "pygments_lexer": "ipython3",
   "version": "3.8.3"
  }
 },
 "nbformat": 4,
 "nbformat_minor": 4
}
